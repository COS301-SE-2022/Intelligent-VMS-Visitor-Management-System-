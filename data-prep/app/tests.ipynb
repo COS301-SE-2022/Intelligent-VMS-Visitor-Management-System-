{
 "cells": [
  {
   "cell_type": "code",
   "execution_count": 11,
   "metadata": {},
   "outputs": [
    {
     "data": {
      "text/plain": [
       "<pymongo.results.DeleteResult at 0x1d8e193f580>"
      ]
     },
     "execution_count": 11,
     "metadata": {},
     "output_type": "execute_result"
    }
   ],
   "source": [
    "from pymongo import MongoClient\n",
    "from dotenv import load_dotenv\n",
    "import os\n",
    "\n",
    "load_dotenv()\n",
    "\n",
    "client = MongoClient(os.getenv(\"MONGO_DB_CONNECTION_STRING\"))\n",
    "db = client[\"vms\"]\n",
    " \n",
    "invitesCollection = db[\"invites\"]\n",
    "groupInvitesCollection = db[\"groupinvites\"]\n",
    "groupParkingReservationsCollection = db[\"groupParkingReservations\"]\n",
    "parkingReservationCollection = db[\"parkingreservations\"]\n",
    "trayCollection = db[\"trays\"]\n",
    "groupInvitesCollection.delete_many({})\n",
    "groupParkingReservationsCollection.delete_many({})"
   ]
  },
  {
   "cell_type": "code",
   "execution_count": 13,
   "metadata": {},
   "outputs": [
    {
     "data": {
      "text/plain": [
       "<pymongo.command_cursor.CommandCursor at 0x1d8e196baf0>"
      ]
     },
     "execution_count": 13,
     "metadata": {},
     "output_type": "execute_result"
    }
   ],
   "source": [
    "parkingReservationCollection.aggregate([\n",
    "    {\n",
    "        '$group': {\n",
    "            '_id': '$reservationDate', \n",
    "            'numParkings': {\n",
    "                '$sum': 1\n",
    "            }\n",
    "        }\n",
    "    }, {\n",
    "        '$out': 'groupparkingreservations'\n",
    "    }\n",
    "    ])"
   ]
  },
  {
   "cell_type": "code",
   "execution_count": 7,
   "metadata": {},
   "outputs": [
    {
     "ename": "OperationFailure",
     "evalue": "PlanExecutor error during aggregation :: caused by :: The argument to $size must be an array, but was of type: object, full error: {'ok': 0.0, 'errmsg': 'PlanExecutor error during aggregation :: caused by :: The argument to $size must be an array, but was of type: object', 'code': 17124, 'codeName': 'Location17124', '$clusterTime': {'clusterTime': Timestamp(1660681030, 3), 'signature': {'hash': b')\\x8c\\x1a\\r\\xe5\\\\\\x0f\\x80c\\xb1\\xbb@\\x11=ah\\xba\\xd3\\x14\\xf0', 'keyId': 7086437743361785861}}, 'operationTime': Timestamp(1660681030, 1)}",
     "output_type": "error",
     "traceback": [
      "\u001b[1;31m---------------------------------------------------------------------------\u001b[0m",
      "\u001b[1;31mOperationFailure\u001b[0m                          Traceback (most recent call last)",
      "\u001b[1;32mc:\\Users\\user\\OneDrive\\Desktop\\COS301\\VMS\\Intelligent-VMS-Visitor-Management-System-\\data-prep\\app\\tests.ipynb Cell 2\u001b[0m in \u001b[0;36m<cell line: 1>\u001b[1;34m()\u001b[0m\n\u001b[1;32m----> <a href='vscode-notebook-cell:/c%3A/Users/user/OneDrive/Desktop/COS301/VMS/Intelligent-VMS-Visitor-Management-System-/data-prep/app/tests.ipynb#W0sZmlsZQ%3D%3D?line=0'>1</a>\u001b[0m invitesCollection\u001b[39m.\u001b[39;49maggregate([\n\u001b[0;32m      <a href='vscode-notebook-cell:/c%3A/Users/user/OneDrive/Desktop/COS301/VMS/Intelligent-VMS-Visitor-Management-System-/data-prep/app/tests.ipynb#W0sZmlsZQ%3D%3D?line=1'>2</a>\u001b[0m   {\n\u001b[0;32m      <a href='vscode-notebook-cell:/c%3A/Users/user/OneDrive/Desktop/COS301/VMS/Intelligent-VMS-Visitor-Management-System-/data-prep/app/tests.ipynb#W0sZmlsZQ%3D%3D?line=2'>3</a>\u001b[0m     \u001b[39m\"\u001b[39;49m\u001b[39m$lookup\u001b[39;49m\u001b[39m\"\u001b[39;49m: {\n\u001b[0;32m      <a href='vscode-notebook-cell:/c%3A/Users/user/OneDrive/Desktop/COS301/VMS/Intelligent-VMS-Visitor-Management-System-/data-prep/app/tests.ipynb#W0sZmlsZQ%3D%3D?line=3'>4</a>\u001b[0m       \u001b[39m\"\u001b[39;49m\u001b[39mfrom\u001b[39;49m\u001b[39m\"\u001b[39;49m: \u001b[39m\"\u001b[39;49m\u001b[39mparkingreservations\u001b[39;49m\u001b[39m\"\u001b[39;49m,\n\u001b[0;32m      <a href='vscode-notebook-cell:/c%3A/Users/user/OneDrive/Desktop/COS301/VMS/Intelligent-VMS-Visitor-Management-System-/data-prep/app/tests.ipynb#W0sZmlsZQ%3D%3D?line=4'>5</a>\u001b[0m       \u001b[39m\"\u001b[39;49m\u001b[39mlocalField\u001b[39;49m\u001b[39m\"\u001b[39;49m: \u001b[39m\"\u001b[39;49m\u001b[39minviteDate\u001b[39;49m\u001b[39m\"\u001b[39;49m,\n\u001b[0;32m      <a href='vscode-notebook-cell:/c%3A/Users/user/OneDrive/Desktop/COS301/VMS/Intelligent-VMS-Visitor-Management-System-/data-prep/app/tests.ipynb#W0sZmlsZQ%3D%3D?line=5'>6</a>\u001b[0m       \u001b[39m\"\u001b[39;49m\u001b[39mforeignField\u001b[39;49m\u001b[39m\"\u001b[39;49m: \u001b[39m\"\u001b[39;49m\u001b[39mreservationDate\u001b[39;49m\u001b[39m\"\u001b[39;49m,\n\u001b[0;32m      <a href='vscode-notebook-cell:/c%3A/Users/user/OneDrive/Desktop/COS301/VMS/Intelligent-VMS-Visitor-Management-System-/data-prep/app/tests.ipynb#W0sZmlsZQ%3D%3D?line=6'>7</a>\u001b[0m       \u001b[39m\"\u001b[39;49m\u001b[39mas\u001b[39;49m\u001b[39m\"\u001b[39;49m: \u001b[39m\"\u001b[39;49m\u001b[39mparkingDetails\u001b[39;49m\u001b[39m\"\u001b[39;49m\n\u001b[0;32m      <a href='vscode-notebook-cell:/c%3A/Users/user/OneDrive/Desktop/COS301/VMS/Intelligent-VMS-Visitor-Management-System-/data-prep/app/tests.ipynb#W0sZmlsZQ%3D%3D?line=7'>8</a>\u001b[0m     }\n\u001b[0;32m      <a href='vscode-notebook-cell:/c%3A/Users/user/OneDrive/Desktop/COS301/VMS/Intelligent-VMS-Visitor-Management-System-/data-prep/app/tests.ipynb#W0sZmlsZQ%3D%3D?line=8'>9</a>\u001b[0m   },\n\u001b[0;32m     <a href='vscode-notebook-cell:/c%3A/Users/user/OneDrive/Desktop/COS301/VMS/Intelligent-VMS-Visitor-Management-System-/data-prep/app/tests.ipynb#W0sZmlsZQ%3D%3D?line=9'>10</a>\u001b[0m   {\n\u001b[0;32m     <a href='vscode-notebook-cell:/c%3A/Users/user/OneDrive/Desktop/COS301/VMS/Intelligent-VMS-Visitor-Management-System-/data-prep/app/tests.ipynb#W0sZmlsZQ%3D%3D?line=10'>11</a>\u001b[0m     \u001b[39m\"\u001b[39;49m\u001b[39m$unwind\u001b[39;49m\u001b[39m\"\u001b[39;49m: \u001b[39m\"\u001b[39;49m\u001b[39m$parkingDetails\u001b[39;49m\u001b[39m\"\u001b[39;49m\n\u001b[0;32m     <a href='vscode-notebook-cell:/c%3A/Users/user/OneDrive/Desktop/COS301/VMS/Intelligent-VMS-Visitor-Management-System-/data-prep/app/tests.ipynb#W0sZmlsZQ%3D%3D?line=11'>12</a>\u001b[0m   },\n\u001b[0;32m     <a href='vscode-notebook-cell:/c%3A/Users/user/OneDrive/Desktop/COS301/VMS/Intelligent-VMS-Visitor-Management-System-/data-prep/app/tests.ipynb#W0sZmlsZQ%3D%3D?line=12'>13</a>\u001b[0m   {\n\u001b[0;32m     <a href='vscode-notebook-cell:/c%3A/Users/user/OneDrive/Desktop/COS301/VMS/Intelligent-VMS-Visitor-Management-System-/data-prep/app/tests.ipynb#W0sZmlsZQ%3D%3D?line=13'>14</a>\u001b[0m     \u001b[39m\"\u001b[39;49m\u001b[39m$project\u001b[39;49m\u001b[39m\"\u001b[39;49m: {\n\u001b[0;32m     <a href='vscode-notebook-cell:/c%3A/Users/user/OneDrive/Desktop/COS301/VMS/Intelligent-VMS-Visitor-Management-System-/data-prep/app/tests.ipynb#W0sZmlsZQ%3D%3D?line=14'>15</a>\u001b[0m       \u001b[39m\"\u001b[39;49m\u001b[39m_id\u001b[39;49m\u001b[39m\"\u001b[39;49m: {\n\u001b[0;32m     <a href='vscode-notebook-cell:/c%3A/Users/user/OneDrive/Desktop/COS301/VMS/Intelligent-VMS-Visitor-Management-System-/data-prep/app/tests.ipynb#W0sZmlsZQ%3D%3D?line=15'>16</a>\u001b[0m         \u001b[39m\"\u001b[39;49m\u001b[39mdate\u001b[39;49m\u001b[39m\"\u001b[39;49m: \u001b[39m\"\u001b[39;49m\u001b[39m$inviteDate\u001b[39;49m\u001b[39m\"\u001b[39;49m\n\u001b[0;32m     <a href='vscode-notebook-cell:/c%3A/Users/user/OneDrive/Desktop/COS301/VMS/Intelligent-VMS-Visitor-Management-System-/data-prep/app/tests.ipynb#W0sZmlsZQ%3D%3D?line=16'>17</a>\u001b[0m       },\n\u001b[0;32m     <a href='vscode-notebook-cell:/c%3A/Users/user/OneDrive/Desktop/COS301/VMS/Intelligent-VMS-Visitor-Management-System-/data-prep/app/tests.ipynb#W0sZmlsZQ%3D%3D?line=17'>18</a>\u001b[0m       \u001b[39m\"\u001b[39;49m\u001b[39mnumVisitors\u001b[39;49m\u001b[39m\"\u001b[39;49m: {\n\u001b[0;32m     <a href='vscode-notebook-cell:/c%3A/Users/user/OneDrive/Desktop/COS301/VMS/Intelligent-VMS-Visitor-Management-System-/data-prep/app/tests.ipynb#W0sZmlsZQ%3D%3D?line=18'>19</a>\u001b[0m         \u001b[39m\"\u001b[39;49m\u001b[39m$sum\u001b[39;49m\u001b[39m\"\u001b[39;49m: \u001b[39m1\u001b[39;49m\n\u001b[0;32m     <a href='vscode-notebook-cell:/c%3A/Users/user/OneDrive/Desktop/COS301/VMS/Intelligent-VMS-Visitor-Management-System-/data-prep/app/tests.ipynb#W0sZmlsZQ%3D%3D?line=19'>20</a>\u001b[0m       },\n\u001b[0;32m     <a href='vscode-notebook-cell:/c%3A/Users/user/OneDrive/Desktop/COS301/VMS/Intelligent-VMS-Visitor-Management-System-/data-prep/app/tests.ipynb#W0sZmlsZQ%3D%3D?line=20'>21</a>\u001b[0m       \u001b[39m\"\u001b[39;49m\u001b[39mnumParking\u001b[39;49m\u001b[39m\"\u001b[39;49m: {\n\u001b[0;32m     <a href='vscode-notebook-cell:/c%3A/Users/user/OneDrive/Desktop/COS301/VMS/Intelligent-VMS-Visitor-Management-System-/data-prep/app/tests.ipynb#W0sZmlsZQ%3D%3D?line=21'>22</a>\u001b[0m          \u001b[39m\"\u001b[39;49m\u001b[39m$size\u001b[39;49m\u001b[39m\"\u001b[39;49m: \u001b[39m\"\u001b[39;49m\u001b[39m$parkingDetails\u001b[39;49m\u001b[39m\"\u001b[39;49m\n\u001b[0;32m     <a href='vscode-notebook-cell:/c%3A/Users/user/OneDrive/Desktop/COS301/VMS/Intelligent-VMS-Visitor-Management-System-/data-prep/app/tests.ipynb#W0sZmlsZQ%3D%3D?line=22'>23</a>\u001b[0m       }\n\u001b[0;32m     <a href='vscode-notebook-cell:/c%3A/Users/user/OneDrive/Desktop/COS301/VMS/Intelligent-VMS-Visitor-Management-System-/data-prep/app/tests.ipynb#W0sZmlsZQ%3D%3D?line=23'>24</a>\u001b[0m     }\n\u001b[0;32m     <a href='vscode-notebook-cell:/c%3A/Users/user/OneDrive/Desktop/COS301/VMS/Intelligent-VMS-Visitor-Management-System-/data-prep/app/tests.ipynb#W0sZmlsZQ%3D%3D?line=24'>25</a>\u001b[0m   }, \n\u001b[0;32m     <a href='vscode-notebook-cell:/c%3A/Users/user/OneDrive/Desktop/COS301/VMS/Intelligent-VMS-Visitor-Management-System-/data-prep/app/tests.ipynb#W0sZmlsZQ%3D%3D?line=25'>26</a>\u001b[0m   {\n\u001b[0;32m     <a href='vscode-notebook-cell:/c%3A/Users/user/OneDrive/Desktop/COS301/VMS/Intelligent-VMS-Visitor-Management-System-/data-prep/app/tests.ipynb#W0sZmlsZQ%3D%3D?line=26'>27</a>\u001b[0m     \u001b[39m'\u001b[39;49m\u001b[39m$out\u001b[39;49m\u001b[39m'\u001b[39;49m: \u001b[39m'\u001b[39;49m\u001b[39mgroupParkingReservations\u001b[39;49m\u001b[39m'\u001b[39;49m\n\u001b[0;32m     <a href='vscode-notebook-cell:/c%3A/Users/user/OneDrive/Desktop/COS301/VMS/Intelligent-VMS-Visitor-Management-System-/data-prep/app/tests.ipynb#W0sZmlsZQ%3D%3D?line=27'>28</a>\u001b[0m   }\n\u001b[0;32m     <a href='vscode-notebook-cell:/c%3A/Users/user/OneDrive/Desktop/COS301/VMS/Intelligent-VMS-Visitor-Management-System-/data-prep/app/tests.ipynb#W0sZmlsZQ%3D%3D?line=28'>29</a>\u001b[0m ])\n",
      "File \u001b[1;32mc:\\Users\\user\\AppData\\Local\\Programs\\Python\\Python310\\lib\\site-packages\\pymongo\\collection.py:2402\u001b[0m, in \u001b[0;36mCollection.aggregate\u001b[1;34m(self, pipeline, session, let, comment, **kwargs)\u001b[0m\n\u001b[0;32m   2324\u001b[0m \u001b[39m\"\"\"Perform an aggregation using the aggregation framework on this\u001b[39;00m\n\u001b[0;32m   2325\u001b[0m \u001b[39mcollection.\u001b[39;00m\n\u001b[0;32m   2326\u001b[0m \n\u001b[1;32m   (...)\u001b[0m\n\u001b[0;32m   2398\u001b[0m \u001b[39m    https://mongodb.com/docs/manual/reference/command/aggregate\u001b[39;00m\n\u001b[0;32m   2399\u001b[0m \u001b[39m\"\"\"\u001b[39;00m\n\u001b[0;32m   2401\u001b[0m \u001b[39mwith\u001b[39;00m \u001b[39mself\u001b[39m\u001b[39m.\u001b[39m__database\u001b[39m.\u001b[39mclient\u001b[39m.\u001b[39m_tmp_session(session, close\u001b[39m=\u001b[39m\u001b[39mFalse\u001b[39;00m) \u001b[39mas\u001b[39;00m s:\n\u001b[1;32m-> 2402\u001b[0m     \u001b[39mreturn\u001b[39;00m \u001b[39mself\u001b[39m\u001b[39m.\u001b[39m_aggregate(\n\u001b[0;32m   2403\u001b[0m         _CollectionAggregationCommand,\n\u001b[0;32m   2404\u001b[0m         pipeline,\n\u001b[0;32m   2405\u001b[0m         CommandCursor,\n\u001b[0;32m   2406\u001b[0m         session\u001b[39m=\u001b[39ms,\n\u001b[0;32m   2407\u001b[0m         explicit_session\u001b[39m=\u001b[39msession \u001b[39mis\u001b[39;00m \u001b[39mnot\u001b[39;00m \u001b[39mNone\u001b[39;00m,\n\u001b[0;32m   2408\u001b[0m         let\u001b[39m=\u001b[39mlet,\n\u001b[0;32m   2409\u001b[0m         comment\u001b[39m=\u001b[39mcomment,\n\u001b[0;32m   2410\u001b[0m         \u001b[39m*\u001b[39m\u001b[39m*\u001b[39mkwargs,\n\u001b[0;32m   2411\u001b[0m     )\n",
      "File \u001b[1;32mc:\\Users\\user\\AppData\\Local\\Programs\\Python\\Python310\\lib\\site-packages\\pymongo\\collection.py:2309\u001b[0m, in \u001b[0;36mCollection._aggregate\u001b[1;34m(self, aggregation_command, pipeline, cursor_class, session, explicit_session, let, comment, **kwargs)\u001b[0m\n\u001b[0;32m   2298\u001b[0m     kwargs[\u001b[39m\"\u001b[39m\u001b[39mcomment\u001b[39m\u001b[39m\"\u001b[39m] \u001b[39m=\u001b[39m comment\n\u001b[0;32m   2299\u001b[0m cmd \u001b[39m=\u001b[39m aggregation_command(\n\u001b[0;32m   2300\u001b[0m     \u001b[39mself\u001b[39m,\n\u001b[0;32m   2301\u001b[0m     cursor_class,\n\u001b[1;32m   (...)\u001b[0m\n\u001b[0;32m   2306\u001b[0m     user_fields\u001b[39m=\u001b[39m{\u001b[39m\"\u001b[39m\u001b[39mcursor\u001b[39m\u001b[39m\"\u001b[39m: {\u001b[39m\"\u001b[39m\u001b[39mfirstBatch\u001b[39m\u001b[39m\"\u001b[39m: \u001b[39m1\u001b[39m}},\n\u001b[0;32m   2307\u001b[0m )\n\u001b[1;32m-> 2309\u001b[0m \u001b[39mreturn\u001b[39;00m \u001b[39mself\u001b[39;49m\u001b[39m.\u001b[39;49m__database\u001b[39m.\u001b[39;49mclient\u001b[39m.\u001b[39;49m_retryable_read(\n\u001b[0;32m   2310\u001b[0m     cmd\u001b[39m.\u001b[39;49mget_cursor,\n\u001b[0;32m   2311\u001b[0m     cmd\u001b[39m.\u001b[39;49mget_read_preference(session),\n\u001b[0;32m   2312\u001b[0m     session,\n\u001b[0;32m   2313\u001b[0m     retryable\u001b[39m=\u001b[39;49m\u001b[39mnot\u001b[39;49;00m cmd\u001b[39m.\u001b[39;49m_performs_write,\n\u001b[0;32m   2314\u001b[0m )\n",
      "File \u001b[1;32mc:\\Users\\user\\AppData\\Local\\Programs\\Python\\Python310\\lib\\site-packages\\pymongo\\mongo_client.py:1371\u001b[0m, in \u001b[0;36mMongoClient._retryable_read\u001b[1;34m(self, func, read_pref, session, address, retryable)\u001b[0m\n\u001b[0;32m   1369\u001b[0m             \u001b[39massert\u001b[39;00m last_error \u001b[39mis\u001b[39;00m \u001b[39mnot\u001b[39;00m \u001b[39mNone\u001b[39;00m\n\u001b[0;32m   1370\u001b[0m             \u001b[39mraise\u001b[39;00m last_error\n\u001b[1;32m-> 1371\u001b[0m         \u001b[39mreturn\u001b[39;00m func(session, server, sock_info, read_pref)\n\u001b[0;32m   1372\u001b[0m \u001b[39mexcept\u001b[39;00m ServerSelectionTimeoutError:\n\u001b[0;32m   1373\u001b[0m     \u001b[39mif\u001b[39;00m retrying:\n\u001b[0;32m   1374\u001b[0m         \u001b[39m# The application may think the write was never attempted\u001b[39;00m\n\u001b[0;32m   1375\u001b[0m         \u001b[39m# if we raise ServerSelectionTimeoutError on the retry\u001b[39;00m\n\u001b[0;32m   1376\u001b[0m         \u001b[39m# attempt. Raise the original exception instead.\u001b[39;00m\n",
      "File \u001b[1;32mc:\\Users\\user\\AppData\\Local\\Programs\\Python\\Python310\\lib\\site-packages\\pymongo\\aggregation.py:140\u001b[0m, in \u001b[0;36m_AggregationCommand.get_cursor\u001b[1;34m(self, session, server, sock_info, read_preference)\u001b[0m\n\u001b[0;32m    137\u001b[0m     write_concern \u001b[39m=\u001b[39m \u001b[39mNone\u001b[39;00m\n\u001b[0;32m    139\u001b[0m \u001b[39m# Run command.\u001b[39;00m\n\u001b[1;32m--> 140\u001b[0m result \u001b[39m=\u001b[39m sock_info\u001b[39m.\u001b[39;49mcommand(\n\u001b[0;32m    141\u001b[0m     \u001b[39mself\u001b[39;49m\u001b[39m.\u001b[39;49m_database\u001b[39m.\u001b[39;49mname,\n\u001b[0;32m    142\u001b[0m     cmd,\n\u001b[0;32m    143\u001b[0m     read_preference,\n\u001b[0;32m    144\u001b[0m     \u001b[39mself\u001b[39;49m\u001b[39m.\u001b[39;49m_target\u001b[39m.\u001b[39;49mcodec_options,\n\u001b[0;32m    145\u001b[0m     parse_write_concern_error\u001b[39m=\u001b[39;49m\u001b[39mTrue\u001b[39;49;00m,\n\u001b[0;32m    146\u001b[0m     read_concern\u001b[39m=\u001b[39;49mread_concern,\n\u001b[0;32m    147\u001b[0m     write_concern\u001b[39m=\u001b[39;49mwrite_concern,\n\u001b[0;32m    148\u001b[0m     collation\u001b[39m=\u001b[39;49m\u001b[39mself\u001b[39;49m\u001b[39m.\u001b[39;49m_collation,\n\u001b[0;32m    149\u001b[0m     session\u001b[39m=\u001b[39;49msession,\n\u001b[0;32m    150\u001b[0m     client\u001b[39m=\u001b[39;49m\u001b[39mself\u001b[39;49m\u001b[39m.\u001b[39;49m_database\u001b[39m.\u001b[39;49mclient,\n\u001b[0;32m    151\u001b[0m     user_fields\u001b[39m=\u001b[39;49m\u001b[39mself\u001b[39;49m\u001b[39m.\u001b[39;49m_user_fields,\n\u001b[0;32m    152\u001b[0m )\n\u001b[0;32m    154\u001b[0m \u001b[39mif\u001b[39;00m \u001b[39mself\u001b[39m\u001b[39m.\u001b[39m_result_processor:\n\u001b[0;32m    155\u001b[0m     \u001b[39mself\u001b[39m\u001b[39m.\u001b[39m_result_processor(result, sock_info)\n",
      "File \u001b[1;32mc:\\Users\\user\\AppData\\Local\\Programs\\Python\\Python310\\lib\\site-packages\\pymongo\\pool.py:743\u001b[0m, in \u001b[0;36mSocketInfo.command\u001b[1;34m(self, dbname, spec, read_preference, codec_options, check, allowable_errors, read_concern, write_concern, parse_write_concern_error, collation, session, client, retryable_write, publish_events, user_fields, exhaust_allowed)\u001b[0m\n\u001b[0;32m    741\u001b[0m     \u001b[39mself\u001b[39m\u001b[39m.\u001b[39m_raise_if_not_writable(unacknowledged)\n\u001b[0;32m    742\u001b[0m \u001b[39mtry\u001b[39;00m:\n\u001b[1;32m--> 743\u001b[0m     \u001b[39mreturn\u001b[39;00m command(\n\u001b[0;32m    744\u001b[0m         \u001b[39mself\u001b[39;49m,\n\u001b[0;32m    745\u001b[0m         dbname,\n\u001b[0;32m    746\u001b[0m         spec,\n\u001b[0;32m    747\u001b[0m         \u001b[39mself\u001b[39;49m\u001b[39m.\u001b[39;49mis_mongos,\n\u001b[0;32m    748\u001b[0m         read_preference,\n\u001b[0;32m    749\u001b[0m         codec_options,\n\u001b[0;32m    750\u001b[0m         session,\n\u001b[0;32m    751\u001b[0m         client,\n\u001b[0;32m    752\u001b[0m         check,\n\u001b[0;32m    753\u001b[0m         allowable_errors,\n\u001b[0;32m    754\u001b[0m         \u001b[39mself\u001b[39;49m\u001b[39m.\u001b[39;49maddress,\n\u001b[0;32m    755\u001b[0m         listeners,\n\u001b[0;32m    756\u001b[0m         \u001b[39mself\u001b[39;49m\u001b[39m.\u001b[39;49mmax_bson_size,\n\u001b[0;32m    757\u001b[0m         read_concern,\n\u001b[0;32m    758\u001b[0m         parse_write_concern_error\u001b[39m=\u001b[39;49mparse_write_concern_error,\n\u001b[0;32m    759\u001b[0m         collation\u001b[39m=\u001b[39;49mcollation,\n\u001b[0;32m    760\u001b[0m         compression_ctx\u001b[39m=\u001b[39;49m\u001b[39mself\u001b[39;49m\u001b[39m.\u001b[39;49mcompression_context,\n\u001b[0;32m    761\u001b[0m         use_op_msg\u001b[39m=\u001b[39;49m\u001b[39mself\u001b[39;49m\u001b[39m.\u001b[39;49mop_msg_enabled,\n\u001b[0;32m    762\u001b[0m         unacknowledged\u001b[39m=\u001b[39;49munacknowledged,\n\u001b[0;32m    763\u001b[0m         user_fields\u001b[39m=\u001b[39;49muser_fields,\n\u001b[0;32m    764\u001b[0m         exhaust_allowed\u001b[39m=\u001b[39;49mexhaust_allowed,\n\u001b[0;32m    765\u001b[0m     )\n\u001b[0;32m    766\u001b[0m \u001b[39mexcept\u001b[39;00m (OperationFailure, NotPrimaryError):\n\u001b[0;32m    767\u001b[0m     \u001b[39mraise\u001b[39;00m\n",
      "File \u001b[1;32mc:\\Users\\user\\AppData\\Local\\Programs\\Python\\Python310\\lib\\site-packages\\pymongo\\network.py:160\u001b[0m, in \u001b[0;36mcommand\u001b[1;34m(sock_info, dbname, spec, is_mongos, read_preference, codec_options, session, client, check, allowable_errors, address, listeners, max_bson_size, read_concern, parse_write_concern_error, collation, compression_ctx, use_op_msg, unacknowledged, user_fields, exhaust_allowed)\u001b[0m\n\u001b[0;32m    158\u001b[0m             client\u001b[39m.\u001b[39m_process_response(response_doc, session)\n\u001b[0;32m    159\u001b[0m         \u001b[39mif\u001b[39;00m check:\n\u001b[1;32m--> 160\u001b[0m             helpers\u001b[39m.\u001b[39;49m_check_command_response(\n\u001b[0;32m    161\u001b[0m                 response_doc,\n\u001b[0;32m    162\u001b[0m                 sock_info\u001b[39m.\u001b[39;49mmax_wire_version,\n\u001b[0;32m    163\u001b[0m                 allowable_errors,\n\u001b[0;32m    164\u001b[0m                 parse_write_concern_error\u001b[39m=\u001b[39;49mparse_write_concern_error,\n\u001b[0;32m    165\u001b[0m             )\n\u001b[0;32m    166\u001b[0m \u001b[39mexcept\u001b[39;00m \u001b[39mException\u001b[39;00m \u001b[39mas\u001b[39;00m exc:\n\u001b[0;32m    167\u001b[0m     \u001b[39mif\u001b[39;00m publish:\n",
      "File \u001b[1;32mc:\\Users\\user\\AppData\\Local\\Programs\\Python\\Python310\\lib\\site-packages\\pymongo\\helpers.py:180\u001b[0m, in \u001b[0;36m_check_command_response\u001b[1;34m(response, max_wire_version, allowable_errors, parse_write_concern_error)\u001b[0m\n\u001b[0;32m    177\u001b[0m \u001b[39melif\u001b[39;00m code \u001b[39m==\u001b[39m \u001b[39m43\u001b[39m:\n\u001b[0;32m    178\u001b[0m     \u001b[39mraise\u001b[39;00m CursorNotFound(errmsg, code, response, max_wire_version)\n\u001b[1;32m--> 180\u001b[0m \u001b[39mraise\u001b[39;00m OperationFailure(errmsg, code, response, max_wire_version)\n",
      "\u001b[1;31mOperationFailure\u001b[0m: PlanExecutor error during aggregation :: caused by :: The argument to $size must be an array, but was of type: object, full error: {'ok': 0.0, 'errmsg': 'PlanExecutor error during aggregation :: caused by :: The argument to $size must be an array, but was of type: object', 'code': 17124, 'codeName': 'Location17124', '$clusterTime': {'clusterTime': Timestamp(1660681030, 3), 'signature': {'hash': b')\\x8c\\x1a\\r\\xe5\\\\\\x0f\\x80c\\xb1\\xbb@\\x11=ah\\xba\\xd3\\x14\\xf0', 'keyId': 7086437743361785861}}, 'operationTime': Timestamp(1660681030, 1)}"
     ]
    }
   ],
   "source": [
    "groupInvites.aggregate([\n",
    "  {\n",
    "    \"$lookup\": {\n",
    "      \"from\": \"parkingreservations\",\n",
    "      \"localField\": \"_id\",\n",
    "      \"foreignField\": \"reservationDate\",\n",
    "      \"as\": \"parkingDetails\"\n",
    "    }\n",
    "  },\n",
    "  {\n",
    "    \"$unwind\": \"$parkingDetails\"\n",
    "  },\n",
    "  {\n",
    "    \"$project\": {\n",
    "      \"_id\": {\n",
    "        \"date\": \"$inviteDate\"\n",
    "      },\n",
    "      \"numVisitors\": {\n",
    "        \"$sum\": 1\n",
    "      },\n",
    "      \"numParking\": {\n",
    "         \"$size\": \"$parkingDetails\"\n",
    "      }\n",
    "    }\n",
    "  }, \n",
    "  {\n",
    "    '$out': 'groupParkingReservations'\n",
    "  }\n",
    "])\n"
   ]
  },
  {
   "cell_type": "code",
   "execution_count": null,
   "metadata": {},
   "outputs": [],
   "source": []
  }
 ],
 "metadata": {
  "kernelspec": {
   "display_name": "Python 3.10.5 64-bit",
   "language": "python",
   "name": "python3"
  },
  "language_info": {
   "codemirror_mode": {
    "name": "ipython",
    "version": 3
   },
   "file_extension": ".py",
   "mimetype": "text/x-python",
   "name": "python",
   "nbconvert_exporter": "python",
   "pygments_lexer": "ipython3",
   "version": "3.10.5"
  },
  "orig_nbformat": 4,
  "vscode": {
   "interpreter": {
    "hash": "fb4569285eef3a3450cb62085a5b1e0da4bce0af555edc33dcf29baf3acc1368"
   }
  }
 },
 "nbformat": 4,
 "nbformat_minor": 2
}
